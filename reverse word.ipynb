{
 "cells": [
  {
   "cell_type": "code",
   "execution_count": null,
   "id": "8337bfde",
   "metadata": {},
   "outputs": [],
   "source": [
    "Write a Python program that accepts a word from the user and reverse it.\n",
    "\n",
    "\n",
    "\n",
    "Sample Test Case\n",
    "\n",
    "\n",
    "\n",
    "Input : Edyoda\n",
    "\n",
    "output: adoydE"
   ]
  },
  {
   "cell_type": "code",
   "execution_count": 3,
   "id": "ff8f6f18",
   "metadata": {},
   "outputs": [
    {
     "name": "stdout",
     "output_type": "stream",
     "text": [
      "enter a word: edyoda\n",
      "adoyde\n",
      "\n"
     ]
    }
   ],
   "source": [
    "word = input(\"enter a word: \")\n",
    "\n",
    "for char in range(len(word) - 1, -1, -1):\n",
    "  print(word[char], end=\"\")\n",
    "print(\"\\n\")\n"
   ]
  },
  {
   "cell_type": "code",
   "execution_count": null,
   "id": "746b2d3c",
   "metadata": {},
   "outputs": [],
   "source": []
  }
 ],
 "metadata": {
  "kernelspec": {
   "display_name": "Python 3",
   "language": "python",
   "name": "python3"
  },
  "language_info": {
   "codemirror_mode": {
    "name": "ipython",
    "version": 3
   },
   "file_extension": ".py",
   "mimetype": "text/x-python",
   "name": "python",
   "nbconvert_exporter": "python",
   "pygments_lexer": "ipython3",
   "version": "3.8.8"
  }
 },
 "nbformat": 4,
 "nbformat_minor": 5
}
