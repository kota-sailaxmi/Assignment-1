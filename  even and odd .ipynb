{
 "cells": [
  {
   "cell_type": "code",
   "execution_count": null,
   "id": "43cc73af",
   "metadata": {},
   "outputs": [],
   "source": [
    "Write a Python program to count the number of even and odd numbers from a series of numbers.\n",
    "\n",
    "\n",
    "\n",
    "Sample numbers : numbers = (1, 2, 3, 4, 5, 6, 7, 8, 9) \n",
    "\n",
    "Expected Output :\n",
    "\n",
    "Number of even numbers : 4\n",
    "\n",
    "Number of odd numbers : 5"
   ]
  },
  {
   "cell_type": "code",
   "execution_count": 1,
   "id": "01fa067f",
   "metadata": {},
   "outputs": [
    {
     "name": "stdout",
     "output_type": "stream",
     "text": [
      "Even :  4\n",
      "Odd :  5\n"
     ]
    }
   ],
   "source": [
    "l = [1,2,3,4,5,6,7,8,9] \n",
    "\n",
    "even, odd= 0, 0\n",
    "\n",
    "for i in l: \n",
    "\n",
    "    if i % 2 == 0: \n",
    "\n",
    "        even += 1\n",
    "\n",
    "    else: \n",
    "\n",
    "        odd+= 1          \n",
    "\n",
    "print(\"Even : \", even) \n",
    "\n",
    "print(\"Odd : \", odd)"
   ]
  },
  {
   "cell_type": "code",
   "execution_count": null,
   "id": "4d7e6fe5",
   "metadata": {},
   "outputs": [],
   "source": []
  }
 ],
 "metadata": {
  "kernelspec": {
   "display_name": "Python 3",
   "language": "python",
   "name": "python3"
  },
  "language_info": {
   "codemirror_mode": {
    "name": "ipython",
    "version": 3
   },
   "file_extension": ".py",
   "mimetype": "text/x-python",
   "name": "python",
   "nbconvert_exporter": "python",
   "pygments_lexer": "ipython3",
   "version": "3.8.8"
  }
 },
 "nbformat": 4,
 "nbformat_minor": 5
}
